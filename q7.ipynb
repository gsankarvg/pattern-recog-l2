{
 "cells": [
  {
   "cell_type": "markdown",
   "id": "eee7c3b2",
   "metadata": {},
   "source": [
    "7. Perform union, intersection, and complement operations on two fuzzy sets. Visualize \n",
    "the fuzzy sets and their operations. Implement De Morgans law on Fuzzy sets. "
   ]
  },
  {
   "cell_type": "code",
   "execution_count": 29,
   "id": "607ce70b",
   "metadata": {},
   "outputs": [],
   "source": [
    "A = {\"a\": 0.2, \"b\": 0.3, \"c\": 0.6, \"d\": 0.6}\n",
    "B = {\"a\": 0.9, \"b\": 0.9, \"c\": 0.4, \"d\": 0.5}\n",
    "labels = list(A.keys())"
   ]
  },
  {
   "cell_type": "code",
   "execution_count": 30,
   "id": "26232d7a",
   "metadata": {},
   "outputs": [],
   "source": [
    "def fuzzy_union(A, B):\n",
    "    U = dict()\n",
    "    for key in A:\n",
    "        U[key] = max(A[key], B[key])\n",
    "    return U"
   ]
  },
  {
   "cell_type": "code",
   "execution_count": 31,
   "id": "1ddd1cab",
   "metadata": {},
   "outputs": [],
   "source": [
    "def fuzzy_intersection(A, B):\n",
    "    I = dict()\n",
    "    for key in A:\n",
    "        I[key] = min(A[key], B[key])\n",
    "    return I"
   ]
  },
  {
   "cell_type": "code",
   "execution_count": 32,
   "id": "c7c0cad8",
   "metadata": {},
   "outputs": [],
   "source": [
    "def fuzzy_complement(A):\n",
    "    C = dict()\n",
    "    for key in A:\n",
    "        C[key] = 1 - A[key]\n",
    "    return C"
   ]
  },
  {
   "cell_type": "code",
   "execution_count": 41,
   "id": "679525ab",
   "metadata": {},
   "outputs": [
    {
     "name": "stdout",
     "output_type": "stream",
     "text": [
      "Fuzzy sets are:\n",
      "{'a': 0.2, 'b': 0.3, 'c': 0.6, 'd': 0.6}\n",
      "{'a': 0.9, 'b': 0.9, 'c': 0.4, 'd': 0.5}\n",
      "performing union operation: \n",
      "{'a': 0.9, 'b': 0.9, 'c': 0.6, 'd': 0.6}\n"
     ]
    }
   ],
   "source": [
    "print(f\"Fuzzy sets are:\\n{A}\\n{B}\")\n",
    "AUB = fuzzy_union(A, B)\n",
    "print(f\"performing union operation: \\n{AUB}\")"
   ]
  },
  {
   "cell_type": "code",
   "execution_count": 34,
   "id": "ec44603d",
   "metadata": {},
   "outputs": [
    {
     "name": "stdout",
     "output_type": "stream",
     "text": [
      "Fuzzy sets are:\n",
      "{'a': 0.2, 'b': 0.3, 'c': 0.6, 'd': 0.6}\n",
      "{'a': 0.9, 'b': 0.9, 'c': 0.4, 'd': 0.5}\n",
      "performing intersection operation: \n",
      "{'a': 0.2, 'b': 0.3, 'c': 0.4, 'd': 0.5}\n"
     ]
    }
   ],
   "source": [
    "print(f\"Fuzzy sets are:\\n{A}\\n{B}\")\n",
    "print(f\"performing intersection operation: \\n{fuzzy_intersection(A,B)}\")"
   ]
  },
  {
   "cell_type": "code",
   "execution_count": 35,
   "id": "0f6cca91",
   "metadata": {},
   "outputs": [
    {
     "name": "stdout",
     "output_type": "stream",
     "text": [
      "Fuzzy set is :\n",
      "{'a': 0.2, 'b': 0.3, 'c': 0.6, 'd': 0.6}\n",
      "performing complement operation: \n",
      "{'a': 0.8, 'b': 0.7, 'c': 0.4, 'd': 0.4}\n",
      "\n",
      "Fuzzy set is :\n",
      "{'a': 0.9, 'b': 0.9, 'c': 0.4, 'd': 0.5}\n",
      "performing complement operation: \n",
      "{'a': 0.09999999999999998, 'b': 0.09999999999999998, 'c': 0.6, 'd': 0.5}\n"
     ]
    }
   ],
   "source": [
    "print(f\"Fuzzy set is :\\n{A}\")\n",
    "print(f\"performing complement operation: \\n{fuzzy_complement(A)}\\n\")\n",
    "print(f\"Fuzzy set is :\\n{B}\")\n",
    "print(f\"performing complement operation: \\n{fuzzy_complement(B)}\")"
   ]
  },
  {
   "cell_type": "code",
   "execution_count": 36,
   "id": "0ec9e8b2",
   "metadata": {},
   "outputs": [
    {
     "data": {
      "text/plain": [
       "<matplotlib.legend.Legend at 0x1d0ff374f50>"
      ]
     },
     "execution_count": 36,
     "metadata": {},
     "output_type": "execute_result"
    },
    {
     "data": {
      "image/png": "[encoded data removed]",
      "text/plain": [
       "<Figure size 1400x600 with 3 Axes>"
      ]
     },
     "metadata": {},
     "output_type": "display_data"
    }
   ],
   "source": [
    "import matplotlib.pyplot as plt\n",
    "\n",
    "plt.figure(figsize=(14, 6))\n",
    "\n",
    "# Original sets\n",
    "plt.subplot(1, 3, 1)\n",
    "plt.bar(labels, [A[k] for k in labels], alpha=0.6, label='A')\n",
    "plt.bar(labels, [B[k] for k in labels], alpha=0.6, label='B')\n",
    "plt.title('Original Fuzzy Sets')\n",
    "plt.ylim(0, 1)\n",
    "plt.legend()\n",
    "\n",
    "# Union & Intersection\n",
    "plt.subplot(1, 3, 2)\n",
    "plt.bar(labels, [AUB[k] for k in labels], alpha=0.6, label='A ∪ B')\n",
    "plt.bar(labels, [A_int_B[k] for k in labels], alpha=0.6, label='A ∩ B')\n",
    "plt.title('Union & Intersection')\n",
    "plt.ylim(0, 1)\n",
    "plt.legend()\n",
    "\n",
    "# Complements\n",
    "plt.subplot(1, 3, 3)\n",
    "plt.bar(labels, [A_comp[k] for k in labels], alpha=0.6, label=\"A'\")\n",
    "plt.bar(labels, [B_comp[k] for k in labels], alpha=0.6, label=\"B'\")\n",
    "plt.title('Complements')\n",
    "plt.ylim(0, 1)\n",
    "plt.legend()"
   ]
  },
  {
   "cell_type": "code",
   "execution_count": 37,
   "id": "926d766b",
   "metadata": {},
   "outputs": [],
   "source": [
    "AUB = fuzzy_union(A,B)\n",
    "AUB_comp = fuzzy_complement(AUB)\n",
    "A_comp = fuzzy_complement(A)\n",
    "B_comp = fuzzy_complement(B)\n",
    "Ac_int_Bc = fuzzy_intersection(A_comp,B_comp)"
   ]
  },
  {
   "cell_type": "code",
   "execution_count": 38,
   "id": "3fe522ec",
   "metadata": {},
   "outputs": [
    {
     "name": "stdout",
     "output_type": "stream",
     "text": [
      "First De Morgans Law: (A U B)' = A' ∩ B'\n",
      "(A U B)' = {'a': 0.09999999999999998, 'b': 0.09999999999999998, 'c': 0.4, 'd': 0.4}\n",
      "A' ∩ B' = {'a': 0.09999999999999998, 'b': 0.09999999999999998, 'c': 0.4, 'd': 0.4}\n"
     ]
    }
   ],
   "source": [
    "print(f\"First De Morgans Law: (A U B)' = A' ∩ B'\")\n",
    "print(f\"(A U B)' = {AUB_comp}\")\n",
    "print(f\"A' ∩ B' = {Ac_int_Bc}\")"
   ]
  },
  {
   "cell_type": "code",
   "execution_count": 39,
   "id": "fdb651c6",
   "metadata": {},
   "outputs": [],
   "source": [
    "A_int_B = fuzzy_intersection(A,B)\n",
    "A_int_B_c = fuzzy_complement(A_int_B)\n",
    "A_c = fuzzy_complement(A)\n",
    "B_c = fuzzy_complement(B)\n",
    "Ac_U_Bc = fuzzy_union(A_c,B_c)"
   ]
  },
  {
   "cell_type": "code",
   "execution_count": 40,
   "id": "0187d899",
   "metadata": {},
   "outputs": [
    {
     "name": "stdout",
     "output_type": "stream",
     "text": [
      "Second De Morgans Law: (A ∩ B)' = A' U B'\n",
      "(A ∩ B)' = {'a': 0.8, 'b': 0.7, 'c': 0.6, 'd': 0.5}\n",
      "A' U B' = {'a': 0.8, 'b': 0.7, 'c': 0.6, 'd': 0.5}\n"
     ]
    }
   ],
   "source": [
    "print(f\"Second De Morgans Law: (A ∩ B)' = A' U B'\")\n",
    "print(f\"(A ∩ B)' = {A_int_B_c}\")\n",
    "print(f\"A' U B' = {Ac_U_Bc}\")"
   ]
  }
 ],
 "metadata": {
  "kernelspec": {
   "display_name": ".venv",
   "language": "python",
   "name": "python3"
  },
  "language_info": {
   "codemirror_mode": {
    "name": "ipython",
    "version": 3
   },
   "file_extension": ".py",
   "mimetype": "text/x-python",
   "name": "python",
   "nbconvert_exporter": "python",
   "pygments_lexer": "ipython3",
   "version": "3.13.5"
  }
 },
 "nbformat": 4,
 "nbformat_minor": 5
}
