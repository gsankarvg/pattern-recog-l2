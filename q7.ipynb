{
 "cells": [
  {
   "cell_type": "markdown",
   "id": "eee7c3b2",
   "metadata": {},
   "source": [
    "7. Perform union, intersection, and complement operations on two fuzzy sets. Visualize \n",
    "the fuzzy sets and their operations. Implement De Morgans law on Fuzzy sets. "
   ]
  },
  {
   "cell_type": "code",
   "execution_count": 3,
   "id": "607ce70b",
   "metadata": {},
   "outputs": [],
   "source": [
    "A = {\"a\": 0.2, \"b\": 0.3, \"c\": 0.6, \"d\": 0.6}\n",
    "B = {\"a\": 0.9, \"b\": 0.9, \"c\": 0.4, \"d\": 0.5}"
   ]
  },
  {
   "cell_type": "code",
   "execution_count": 1,
   "id": "26232d7a",
   "metadata": {},
   "outputs": [],
   "source": [
    "def fuzzy_union(A,B):\n",
    "    U = dict()\n",
    "    for key_A, key_B in zip(A,B):\n",
    "        A_value = A[key_A]\n",
    "        B_value = B[key_B]\n",
    "\n",
    "        if A_value > B_value:\n",
    "            U[key_A] = A_value\n",
    "        else:\n",
    "            U[key_B] = B_value\n",
    "    return U"
   ]
  },
  {
   "cell_type": "code",
   "execution_count": 5,
   "id": "1ddd1cab",
   "metadata": {},
   "outputs": [],
   "source": [
    "def fuzzy_intersection(A,B):\n",
    "    I = dict()\n",
    "    for A_key, B_key in zip(A, B):\n",
    "        A_value = A[A_key]\n",
    "        B_value = B[B_key]\n",
    "\n",
    "        if A_value < B_value:\n",
    "            I[A_key] = A_value\n",
    "        else:\n",
    "            I[B_key] = B_value\n",
    "    return I"
   ]
  },
  {
   "cell_type": "code",
   "execution_count": null,
   "id": "c7c0cad8",
   "metadata": {},
   "outputs": [],
   "source": [
    "def fuzzy_complement(A):\n",
    "    C = dict()\n",
    "    \n",
    "    for A_key in A:\n",
    "        C[A_key] = 1 - A[A_key]\n",
    "    \n",
    "    return C"
   ]
  },
  {
   "cell_type": "code",
   "execution_count": 19,
   "id": "679525ab",
   "metadata": {},
   "outputs": [
    {
     "name": "stdout",
     "output_type": "stream",
     "text": [
      "Fuzzy sets are:\n",
      "{'a': 0.2, 'b': 0.3, 'c': 0.6, 'd': 0.6}\n",
      "{'a': 0.9, 'b': 0.9, 'c': 0.4, 'd': 0.5}\n",
      "performing union operation: \n",
      "{'a': 0.9, 'b': 0.9, 'c': 0.6, 'd': 0.6}\n"
     ]
    }
   ],
   "source": [
    "print(f\"Fuzzy sets are:\\n{A}\\n{B}\")\n",
    "print(f\"performing union operation: \\n{fuzzy_union(A,B)}\")"
   ]
  },
  {
   "cell_type": "code",
   "execution_count": 20,
   "id": "ec44603d",
   "metadata": {},
   "outputs": [
    {
     "name": "stdout",
     "output_type": "stream",
     "text": [
      "Fuzzy sets are:\n",
      "{'a': 0.2, 'b': 0.3, 'c': 0.6, 'd': 0.6}\n",
      "{'a': 0.9, 'b': 0.9, 'c': 0.4, 'd': 0.5}\n",
      "performing intersection operation: \n",
      "{'a': 0.2, 'b': 0.3, 'c': 0.4, 'd': 0.5}\n"
     ]
    }
   ],
   "source": [
    "print(f\"Fuzzy sets are:\\n{A}\\n{B}\")\n",
    "print(f\"performing intersection operation: \\n{fuzzy_intersection(A,B)}\")"
   ]
  },
  {
   "cell_type": "code",
   "execution_count": 15,
   "id": "926d766b",
   "metadata": {},
   "outputs": [],
   "source": [
    "AUB = fuzzy_union(A,B)\n",
    "AUB_comp = fuzzy_complement(AUB)\n",
    "A_comp = fuzzy_complement(A)\n",
    "B_comp = fuzzy_complement(B)\n",
    "Ac_int_Bc = fuzzy_intersection(A_comp,B_comp)"
   ]
  },
  {
   "cell_type": "code",
   "execution_count": 23,
   "id": "3fe522ec",
   "metadata": {},
   "outputs": [
    {
     "name": "stdout",
     "output_type": "stream",
     "text": [
      "First De Morgans Law: (A U B)' = A' ∩ B'\n",
      "(A U B)' = {'a': 0.09999999999999998, 'b': 0.09999999999999998, 'c': 0.4, 'd': 0.4}\n",
      "A' ∩ B' = {'a': 0.09999999999999998, 'b': 0.09999999999999998, 'c': 0.4, 'd': 0.4}\n"
     ]
    }
   ],
   "source": [
    "print(f\"First De Morgans Law: (A U B)' = A' ∩ B'\")\n",
    "print(f\"(A U B)' = {AUB_comp}\")\n",
    "print(f\"A' ∩ B' = {Ac_int_Bc}\")"
   ]
  },
  {
   "cell_type": "code",
   "execution_count": 21,
   "id": "fdb651c6",
   "metadata": {},
   "outputs": [],
   "source": [
    "A_int_B = fuzzy_intersection(A,B)\n",
    "A_int_B_c = fuzzy_complement(A_int_B)\n",
    "A_c = fuzzy_complement(A)\n",
    "B_c = fuzzy_complement(B)\n",
    "Ac_U_Bc = fuzzy_union(A_c,B_c)"
   ]
  },
  {
   "cell_type": "code",
   "execution_count": 25,
   "id": "0187d899",
   "metadata": {},
   "outputs": [
    {
     "name": "stdout",
     "output_type": "stream",
     "text": [
      "Second De Morgans Law: (A ∩ B)' = A' U B'\n",
      "(A ∩ B)' = {'a': 0.8, 'b': 0.7, 'c': 0.6, 'd': 0.5}\n",
      "A' U B' = {'a': 0.8, 'b': 0.7, 'c': 0.6, 'd': 0.5}\n"
     ]
    }
   ],
   "source": [
    "print(f\"Second De Morgans Law: (A ∩ B)' = A' U B'\")\n",
    "print(f\"(A ∩ B)' = {A_int_B_c}\")\n",
    "print(f\"A' U B' = {Ac_U_Bc}\")"
   ]
  }
 ],
 "metadata": {
  "kernelspec": {
   "display_name": ".venv",
   "language": "python",
   "name": "python3"
  },
  "language_info": {
   "codemirror_mode": {
    "name": "ipython",
    "version": 3
   },
   "file_extension": ".py",
   "mimetype": "text/x-python",
   "name": "python",
   "nbconvert_exporter": "python",
   "pygments_lexer": "ipython3",
   "version": "3.13.0"
  }
 },
 "nbformat": 4,
 "nbformat_minor": 5
}
