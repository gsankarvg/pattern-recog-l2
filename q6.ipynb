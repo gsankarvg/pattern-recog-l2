{
 "cells": [
  {
   "cell_type": "markdown",
   "id": "c9fc0fc8",
   "metadata": {},
   "source": [
    "6. Load  an  image dataset (eg: Iris dataset). Compute the following distances between \n",
    "sample points. \n",
    "\n",
    "a) Hamming Distance  \n",
    "\n",
    "b) Euclidean distance \n",
    "\n",
    "c) Manhattan (City block) Distance"
   ]
  },
  {
   "cell_type": "code",
   "execution_count": 3,
   "id": "876b6b24",
   "metadata": {},
   "outputs": [],
   "source": [
    "from sklearn.datasets import fetch_openml"
   ]
  },
  {
   "cell_type": "code",
   "execution_count": 4,
   "id": "5753f10b",
   "metadata": {},
   "outputs": [],
   "source": [
    "mnist = fetch_openml('mnist_784', version=1, as_frame=False)\n",
    "X, y = mnist.data, mnist.target"
   ]
  },
  {
   "cell_type": "code",
   "execution_count": 5,
   "id": "697e0448",
   "metadata": {},
   "outputs": [],
   "source": [
    "\n",
    "from scipy.spatial.distance import hamming, euclidean, cityblock\n",
    "import matplotlib.pyplot as plt"
   ]
  },
  {
   "cell_type": "code",
   "execution_count": 6,
   "id": "71f7f77d",
   "metadata": {},
   "outputs": [],
   "source": [
    "# Selecting two  images (as flat arrays)\n",
    "img1 = X[0]\n",
    "img2 = X[1]"
   ]
  },
  {
   "cell_type": "code",
   "execution_count": 7,
   "id": "d22a9c56",
   "metadata": {},
   "outputs": [
    {
     "data": {
      "image/png": "[encoded data removed]",
      "text/plain": [
       "<Figure size 800x400 with 2 Axes>"
      ]
     },
     "metadata": {},
     "output_type": "display_data"
    }
   ],
   "source": [
    "plt.figure(figsize=(8, 4))\n",
    "\n",
    "plt.subplot(1, 2, 1)\n",
    "plt.imshow(X[0].reshape(28, 28), cmap='gray')\n",
    "plt.title(f\"Label: {y[0]}\")\n",
    "plt.axis('off')\n",
    "\n",
    "plt.subplot(1, 2, 2)\n",
    "plt.imshow(X[1].reshape(28, 28), cmap='gray')\n",
    "plt.title(f\"Label: {y[1]}\")\n",
    "plt.axis('off')\n",
    "\n",
    "plt.show()"
   ]
  },
  {
   "cell_type": "code",
   "execution_count": 8,
   "id": "bb92fd99",
   "metadata": {},
   "outputs": [],
   "source": [
    "img1_bin = (img1 > 128).astype(int)\n",
    "img2_bin = (img2 > 128).astype(int)\n",
    "hamming_dist = hamming(img1_bin, img2_bin) * len(img1_bin)  "
   ]
  },
  {
   "cell_type": "code",
   "execution_count": 9,
   "id": "704a2ebe",
   "metadata": {},
   "outputs": [],
   "source": [
    "euclidean_dist = euclidean(img1, img2)"
   ]
  },
  {
   "cell_type": "code",
   "execution_count": 10,
   "id": "0e07870f",
   "metadata": {},
   "outputs": [],
   "source": [
    "manhattan_dist = cityblock(img1, img2)"
   ]
  },
  {
   "cell_type": "code",
   "execution_count": 11,
   "id": "aa9d5c2b",
   "metadata": {},
   "outputs": [
    {
     "name": "stdout",
     "output_type": "stream",
     "text": [
      "Hamming Distance: 117.00000000000001\n",
      "Euclidean Distance: 2387.111643807218\n",
      "Manhattan Distance: 29506\n"
     ]
    }
   ],
   "source": [
    "print(f\"Hamming Distance: {hamming_dist}\")\n",
    "print(f\"Euclidean Distance: {euclidean_dist}\")\n",
    "print(f\"Manhattan Distance: {manhattan_dist}\")"
   ]
  }
 ],
 "metadata": {
  "kernelspec": {
   "display_name": ".venv",
   "language": "python",
   "name": "python3"
  },
  "language_info": {
   "codemirror_mode": {
    "name": "ipython",
    "version": 3
   },
   "file_extension": ".py",
   "mimetype": "text/x-python",
   "name": "python",
   "nbconvert_exporter": "python",
   "pygments_lexer": "ipython3",
   "version": "3.13.5"
  }
 },
 "nbformat": 4,
 "nbformat_minor": 5
}
