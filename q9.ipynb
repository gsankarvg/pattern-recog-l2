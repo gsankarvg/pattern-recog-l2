{
  "cells": [
    {
      "cell_type": "markdown",
      "metadata": {
        "id": "L9PCa6TY1RZk"
      },
      "source": [
        "9. Write a Python program to fuzzify the input variable temperature using Triangular\n",
        "membership functions for Low, Medium, and High with Input temperature values [10,\n",
        "20, 30, 40, 50]."
      ]
    },
    {
      "cell_type": "code",
      "execution_count": 2,
      "metadata": {
        "id": "YLs802Ke061O"
      },
      "outputs": [],
      "source": [
        "import numpy as np\n",
        "import skfuzzy as fuzz"
      ]
    },
    {
      "cell_type": "code",
      "execution_count": 3,
      "metadata": {},
      "outputs": [],
      "source": [
        "x_temp = np.arange(0, 61)"
      ]
    },
    {
      "cell_type": "code",
      "execution_count": 4,
      "metadata": {},
      "outputs": [],
      "source": [
        "temperatures = np.array([10, 20, 30, 40, 50])"
      ]
    },
    {
      "cell_type": "code",
      "execution_count": 5,
      "metadata": {},
      "outputs": [],
      "source": [
        "low = fuzz.trimf(x_temp, [0, 10, 25])\n",
        "medium = fuzz.trimf(x_temp, [15, 30, 45])\n",
        "high = fuzz.trimf(x_temp, [35, 50, 60])"
      ]
    },
    {
      "cell_type": "code",
      "execution_count": 6,
      "metadata": {},
      "outputs": [
        {
          "name": "stdout",
          "output_type": "stream",
          "text": [
            "Membership Degree of temparature in each fuzzy set\n",
            "Temperature: 10\n",
            "  Low:    1.00\n",
            "  Medium: 0.00\n",
            "  High:   0.00\n",
            "\n",
            "Temperature: 20\n",
            "  Low:    0.33\n",
            "  Medium: 0.33\n",
            "  High:   0.00\n",
            "\n",
            "Temperature: 30\n",
            "  Low:    0.00\n",
            "  Medium: 1.00\n",
            "  High:   0.00\n",
            "\n",
            "Temperature: 40\n",
            "  Low:    0.00\n",
            "  Medium: 0.33\n",
            "  High:   0.33\n",
            "\n",
            "Temperature: 50\n",
            "  Low:    0.00\n",
            "  Medium: 0.00\n",
            "  High:   1.00\n",
            "\n"
          ]
        }
      ],
      "source": [
        "print(f\"Membership Degree of temparature in each fuzzy set\")\n",
        "for temp in temperatures:\n",
        "    low_deg = fuzz.interp_membership(x_temp, low, temp)\n",
        "    med_deg = fuzz.interp_membership(x_temp, medium, temp)\n",
        "    high_deg = fuzz.interp_membership(x_temp, high, temp)\n",
        "    print(f\"Temperature: {temp}\")\n",
        "    print(f\"  Low:    {low_deg:.2f}\")\n",
        "    print(f\"  Medium: {med_deg:.2f}\")\n",
        "    print(f\"  High:   {high_deg:.2f}\\n\")"
      ]
    }
  ],
  "metadata": {
    "colab": {
      "provenance": []
    },
    "kernelspec": {
      "display_name": ".venv",
      "language": "python",
      "name": "python3"
    },
    "language_info": {
      "codemirror_mode": {
        "name": "ipython",
        "version": 3
      },
      "file_extension": ".py",
      "mimetype": "text/x-python",
      "name": "python",
      "nbconvert_exporter": "python",
      "pygments_lexer": "ipython3",
      "version": "3.13.5"
    }
  },
  "nbformat": 4,
  "nbformat_minor": 0
}
