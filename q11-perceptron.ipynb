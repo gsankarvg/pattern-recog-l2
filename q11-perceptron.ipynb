{
 "cells": [
  {
   "cell_type": "markdown",
   "id": "ec1f8ede",
   "metadata": {},
   "source": [
    "Design and implement perceptrons, write you own code for learning (weight updating)\n",
    "task, for the AND, OR, NAND, and NOR logic gates.\n",
    "\n",
    "Conduct experiments to evaluate\n",
    "the impact of bias on the perceptron's ability to learn and classify these logic gates\n",
    "accurately "
   ]
  },
  {
   "cell_type": "code",
   "execution_count": 1,
   "id": "cee0a2c4",
   "metadata": {},
   "outputs": [],
   "source": [
    "import numpy as np"
   ]
  },
  {
   "cell_type": "code",
   "execution_count": 6,
   "id": "3214e93a",
   "metadata": {},
   "outputs": [],
   "source": [
    "class Perceptron:\n",
    "    def __init__(self, learning_rate=0.1, epochs=100):\n",
    "        self.learning_rate = learning_rate\n",
    "        self.epochs = epochs\n",
    "        self.weights = None\n",
    "        self.bias = None\n",
    "\n",
    "    def activation(self, x):\n",
    "        # step function\n",
    "        return 1 if x >= 0 else 0\n",
    "    \n",
    "    def train(self, X, y, use_bias=True):\n",
    "        n_features = X.shape[1]\n",
    "        self.weights = np.zeros(n_features)\n",
    "        self.bias = 0 if not use_bias else np.random.randn()\n",
    "    \n",
    "        for _ in range(self.epochs):\n",
    "            for i in range(X.shape[0]):\n",
    "                net_input = np.dot(X[i], self.weights) + (self.bias if use_bias else 0)\n",
    "                prediction = self.activation(net_input)\n",
    "                error = y[i] - prediction\n",
    "                self.weights += self.learning_rate * error * X[i]\n",
    "                if use_bias:\n",
    "                    self.bias += self.learning_rate * error\n",
    "    \n",
    "    def predict(self, X, use_bias=True):\n",
    "        net_input = np.dot(X, self.weights) + (self.bias if use_bias else 0)\n",
    "        return np.array([self.activation(x) for x in net_input])\n"
   ]
  },
  {
   "cell_type": "code",
   "execution_count": 7,
   "id": "cda21375",
   "metadata": {},
   "outputs": [],
   "source": [
    "# Training data\n",
    "X = np.array([[0, 0], [0, 1], [1, 0], [1, 1]])\n",
    "y_and = np.array([0, 0, 0, 1])\n",
    "y_or = np.array([0, 1, 1, 1])\n",
    "y_nand = np.array([1, 1, 1, 0])\n",
    "y_nor = np.array([1, 0, 0, 0])"
   ]
  },
  {
   "cell_type": "code",
   "execution_count": 9,
   "id": "139caad8",
   "metadata": {},
   "outputs": [
    {
     "name": "stdout",
     "output_type": "stream",
     "text": [
      "\n",
      "AND gate predictions:\n",
      "With bias=True:\n",
      "  Input: [0 0], Prediction: 0\n",
      "  Input: [0 1], Prediction: 0\n",
      "  Input: [1 0], Prediction: 0\n",
      "  Input: [1 1], Prediction: 1\n",
      "  Weights: [0.2 0.1], Bias: -0.2796335718003441\n",
      "With bias=False:\n",
      "  Input: [0 0], Prediction: 1\n",
      "  Input: [0 1], Prediction: 1\n",
      "  Input: [1 0], Prediction: 1\n",
      "  Input: [1 1], Prediction: 1\n",
      "  Weights: [0. 0.], Bias: 0\n",
      "\n",
      "OR gate predictions:\n",
      "With bias=True:\n",
      "  Input: [0 0], Prediction: 0\n",
      "  Input: [0 1], Prediction: 1\n",
      "  Input: [1 0], Prediction: 1\n",
      "  Input: [1 1], Prediction: 1\n",
      "  Weights: [0.3 0.4], Bias: -0.2610561062700969\n",
      "With bias=False:\n",
      "  Input: [0 0], Prediction: 1\n",
      "  Input: [0 1], Prediction: 1\n",
      "  Input: [1 0], Prediction: 1\n",
      "  Input: [1 1], Prediction: 1\n",
      "  Weights: [0. 0.], Bias: 0\n",
      "\n",
      "NAND gate predictions:\n",
      "With bias=True:\n",
      "  Input: [0 0], Prediction: 1\n",
      "  Input: [0 1], Prediction: 1\n",
      "  Input: [1 0], Prediction: 1\n",
      "  Input: [1 1], Prediction: 0\n",
      "  Weights: [-0.2 -0.1], Bias: 0.22949306275711082\n",
      "With bias=False:\n",
      "  Input: [0 0], Prediction: 1\n",
      "  Input: [0 1], Prediction: 0\n",
      "  Input: [1 0], Prediction: 0\n",
      "  Input: [1 1], Prediction: 0\n",
      "  Weights: [-0.1 -0.1], Bias: 0\n",
      "\n",
      "NOR gate predictions:\n",
      "With bias=True:\n",
      "  Input: [0 0], Prediction: 1\n",
      "  Input: [0 1], Prediction: 0\n",
      "  Input: [1 0], Prediction: 0\n",
      "  Input: [1 1], Prediction: 0\n",
      "  Weights: [-0.1 -0.1], Bias: 0.02695325273256219\n",
      "With bias=False:\n",
      "  Input: [0 0], Prediction: 1\n",
      "  Input: [0 1], Prediction: 0\n",
      "  Input: [1 0], Prediction: 0\n",
      "  Input: [1 1], Prediction: 0\n",
      "  Weights: [-0.1 -0.1], Bias: 0\n"
     ]
    }
   ],
   "source": [
    "gates = {\n",
    "    \"AND\": y_and,\n",
    "    \"OR\": y_or,\n",
    "    \"NAND\": y_nand,\n",
    "    \"NOR\": y_nor\n",
    "}\n",
    "\n",
    "for gate, y in gates.items():\n",
    "    print(f\"\\n{gate} gate predictions:\")\n",
    "    for bias in [True, False]:\n",
    "        p = Perceptron()\n",
    "        p.train(X, y, use_bias=bias)\n",
    "        preds = p.predict(X, use_bias=bias)\n",
    "        print(f\"With bias={bias}:\")\n",
    "        for inp, pred in zip(X, preds):\n",
    "            print(f\"  Input: {inp}, Prediction: {pred}\")\n",
    "        print(f\"  Weights: {p.weights}, Bias: {p.bias}\")"
   ]
  }
 ],
 "metadata": {
  "kernelspec": {
   "display_name": ".venv",
   "language": "python",
   "name": "python3"
  },
  "language_info": {
   "codemirror_mode": {
    "name": "ipython",
    "version": 3
   },
   "file_extension": ".py",
   "mimetype": "text/x-python",
   "name": "python",
   "nbconvert_exporter": "python",
   "pygments_lexer": "ipython3",
   "version": "3.13.5"
  }
 },
 "nbformat": 4,
 "nbformat_minor": 5
}
